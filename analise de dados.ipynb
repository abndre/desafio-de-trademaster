{
 "cells": [
  {
   "cell_type": "code",
   "execution_count": 11,
   "id": "96b2a738",
   "metadata": {},
   "outputs": [],
   "source": [
    "import json\n",
    "import pandas as pd\n",
    "import glob\n",
    "import os"
   ]
  },
  {
   "cell_type": "code",
   "execution_count": 2,
   "id": "34bbde7e",
   "metadata": {},
   "outputs": [],
   "source": [
    "path = 'data/02-processed/event/msg/*.json'  # Path to the directory containing the JSON files\n",
    "\n",
    "# Find all file paths matching the pattern\n",
    "file_paths = glob.glob(path)"
   ]
  },
  {
   "cell_type": "code",
   "execution_count": 3,
   "id": "c3203ece",
   "metadata": {},
   "outputs": [
    {
     "data": {
      "text/plain": [
       "['data/02-processed/event/msg/5d031b25-8dc1-4e66-a5ee-eefcf1ab1f71_2023-06-26_.json',\n",
       " 'data/02-processed/event/msg/52ccabde-65ce-4cd0-a398-b2a5174339bb_2023-06-26_.json',\n",
       " 'data/02-processed/event/msg/f1f774c2-95e9-4525-bb5c-ffbdcfdee98e_2023-06-26_.json',\n",
       " 'data/02-processed/event/msg/2f92eb9b-9665-47bc-a6df-03d91ed3edea_2023-06-26_.json']"
      ]
     },
     "execution_count": 3,
     "metadata": {},
     "output_type": "execute_result"
    }
   ],
   "source": [
    "file_paths"
   ]
  },
  {
   "cell_type": "code",
   "execution_count": 4,
   "id": "efaeb6bf",
   "metadata": {},
   "outputs": [],
   "source": [
    "# Read each file and concatenate the data into a single DataFrame\n",
    "dfs = []\n",
    "for file_path in file_paths:\n",
    "    with open(file_path, 'r') as file:\n",
    "        lines = file.readlines()\n",
    "        json_data = [json.loads(line) for line in lines]\n",
    "        df = pd.DataFrame(json_data)\n",
    "        dfs.append(df)"
   ]
  },
  {
   "cell_type": "code",
   "execution_count": 5,
   "id": "042f319d",
   "metadata": {},
   "outputs": [
    {
     "data": {
      "text/html": [
       "<div>\n",
       "<style scoped>\n",
       "    .dataframe tbody tr th:only-of-type {\n",
       "        vertical-align: middle;\n",
       "    }\n",
       "\n",
       "    .dataframe tbody tr th {\n",
       "        vertical-align: top;\n",
       "    }\n",
       "\n",
       "    .dataframe thead th {\n",
       "        text-align: right;\n",
       "    }\n",
       "</style>\n",
       "<table border=\"1\" class=\"dataframe\">\n",
       "  <thead>\n",
       "    <tr style=\"text-align: right;\">\n",
       "      <th></th>\n",
       "      <th>id_cliente</th>\n",
       "      <th>id_funcionario</th>\n",
       "      <th>id_item</th>\n",
       "      <th>data_aluguel</th>\n",
       "      <th>data_devolucao</th>\n",
       "      <th>id_evento</th>\n",
       "      <th>has_id_client</th>\n",
       "      <th>has_id_funcionario</th>\n",
       "      <th>has_id_item</th>\n",
       "    </tr>\n",
       "  </thead>\n",
       "  <tbody>\n",
       "    <tr>\n",
       "      <th>0</th>\n",
       "      <td>1</td>\n",
       "      <td>1</td>\n",
       "      <td>1</td>\n",
       "      <td>2023-06-23</td>\n",
       "      <td>2023-06-30</td>\n",
       "      <td>Aluguel</td>\n",
       "      <td>True</td>\n",
       "      <td>True</td>\n",
       "      <td>True</td>\n",
       "    </tr>\n",
       "    <tr>\n",
       "      <th>1</th>\n",
       "      <td>1</td>\n",
       "      <td>1</td>\n",
       "      <td>1</td>\n",
       "      <td>2023-06-23</td>\n",
       "      <td>2023-06-30</td>\n",
       "      <td>Aluguel</td>\n",
       "      <td>True</td>\n",
       "      <td>True</td>\n",
       "      <td>True</td>\n",
       "    </tr>\n",
       "    <tr>\n",
       "      <th>2</th>\n",
       "      <td>1</td>\n",
       "      <td>1</td>\n",
       "      <td>1</td>\n",
       "      <td>2023-06-23</td>\n",
       "      <td>2023-06-30</td>\n",
       "      <td>Aluguel</td>\n",
       "      <td>True</td>\n",
       "      <td>True</td>\n",
       "      <td>True</td>\n",
       "    </tr>\n",
       "    <tr>\n",
       "      <th>3</th>\n",
       "      <td>1</td>\n",
       "      <td>1</td>\n",
       "      <td>1</td>\n",
       "      <td>2023-06-23</td>\n",
       "      <td>2023-06-30</td>\n",
       "      <td>Aluguel</td>\n",
       "      <td>True</td>\n",
       "      <td>True</td>\n",
       "      <td>True</td>\n",
       "    </tr>\n",
       "  </tbody>\n",
       "</table>\n",
       "</div>"
      ],
      "text/plain": [
       "   id_cliente  id_funcionario  id_item data_aluguel data_devolucao id_evento  \\\n",
       "0           1               1        1   2023-06-23     2023-06-30   Aluguel   \n",
       "1           1               1        1   2023-06-23     2023-06-30   Aluguel   \n",
       "2           1               1        1   2023-06-23     2023-06-30   Aluguel   \n",
       "3           1               1        1   2023-06-23     2023-06-30   Aluguel   \n",
       "\n",
       "   has_id_client  has_id_funcionario  has_id_item  \n",
       "0           True                True         True  \n",
       "1           True                True         True  \n",
       "2           True                True         True  \n",
       "3           True                True         True  "
      ]
     },
     "execution_count": 5,
     "metadata": {},
     "output_type": "execute_result"
    }
   ],
   "source": [
    "# Concatenate all DataFrames into a single DataFrame\n",
    "combined_df = pd.concat(dfs, ignore_index=True)\n",
    "\n",
    "# Now you can work with the combined DataFrame\n",
    "combined_df.head()"
   ]
  },
  {
   "cell_type": "code",
   "execution_count": 12,
   "id": "09325c81",
   "metadata": {},
   "outputs": [],
   "source": [
    "os.makedirs('./data/03-enhanced/year=2023/month=03/', exist_ok=True)\n",
    "combined_df.to_parquet(f'./data/03-enhanced/year=2023/month=03/file.parquet')"
   ]
  },
  {
   "cell_type": "code",
   "execution_count": null,
   "id": "9a4f1e62",
   "metadata": {},
   "outputs": [],
   "source": []
  },
  {
   "cell_type": "code",
   "execution_count": null,
   "id": "bd476ac3",
   "metadata": {},
   "outputs": [],
   "source": []
  },
  {
   "cell_type": "code",
   "execution_count": null,
   "id": "66b0e883",
   "metadata": {},
   "outputs": [],
   "source": []
  }
 ],
 "metadata": {
  "kernelspec": {
   "display_name": "Python 3 (ipykernel)",
   "language": "python",
   "name": "python3"
  },
  "language_info": {
   "codemirror_mode": {
    "name": "ipython",
    "version": 3
   },
   "file_extension": ".py",
   "mimetype": "text/x-python",
   "name": "python",
   "nbconvert_exporter": "python",
   "pygments_lexer": "ipython3",
   "version": "3.10.10"
  }
 },
 "nbformat": 4,
 "nbformat_minor": 5
}
